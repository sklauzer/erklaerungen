{
 "cells": [
  {
   "cell_type": "markdown",
   "id": "b6fb8961-5c04-445d-b566-348f60714fdc",
   "metadata": {},
   "source": [
    "## Die Bedeutung von super() bei Klassen"
   ]
  },
  {
   "cell_type": "markdown",
   "id": "8cc115dd-38b6-4c9b-b82c-2f6e0b28a455",
   "metadata": {},
   "source": [
    "Um die Bedeutung von **super()** Funktionen zu verstehen, betrachten wir folgendes Beispiel:\n",
    "\n",
    "Die Stadt Karlsruhe möchte all ihre Fahrzeuge digital erfassen. Dazu gehören Rettunswagen, Baustellenfahrzeuge und Polizeiautos.\n",
    "Man könnte nun für jede Fahrzeuggruppe eine **Klasse** anlegen, die die Gruppe repräsentiert."
   ]
  },
  {
   "cell_type": "code",
   "execution_count": 71,
   "id": "9b370f43-080a-47ef-841a-1dd32351b428",
   "metadata": {},
   "outputs": [],
   "source": [
    "class Rettungswagen():\n",
    "    #Initalisieren der Klassen-Attribute\n",
    "    def __init__(self, tankgroesse, sitzplaetze, patiententransport):\n",
    "        \n",
    "        self.tankgroesse = tankgroesse\n",
    "        self.sitzplaetze = sitzplaetze\n",
    "        self.patiententransport = patiententransport"
   ]
  },
  {
   "cell_type": "code",
   "execution_count": 72,
   "id": "b7b92e7e-aa05-4aa3-8a91-9a86e7d75cfb",
   "metadata": {},
   "outputs": [],
   "source": [
    "class Baustellenfahrzeug():\n",
    "    #Initalisieren der Klassen-Attribute\n",
    "    def __init__(self, tankgroesse, sitzplaetze, anzahl_schaufeln):\n",
    "        \n",
    "        self.tankgroesse = tankgroesse\n",
    "        self.sitzplaetze = sitzplaetze\n",
    "        self.anzahl_schaufeln = anzahl_schaufeln"
   ]
  },
  {
   "cell_type": "code",
   "execution_count": 73,
   "id": "d2ac82aa-97cd-4e80-bb67-038a14614fd6",
   "metadata": {},
   "outputs": [],
   "source": [
    "class Polizeiauto():\n",
    "    #Initalisieren der Klassen-Attribute\n",
    "    def __init__(self, tankgroesse, sitzplaetze, anzahl_handschellen):\n",
    "        \n",
    "        self.tankgroesse = tankgroesse\n",
    "        self.sitzplaetze = sitzplaetze\n",
    "        self.anzahl_handschellen = anzahl_handschellen"
   ]
  },
  {
   "cell_type": "markdown",
   "id": "aaeaf84f-3714-4836-a356-66f2a0238156",
   "metadata": {},
   "source": [
    "Man könnte nun verschiedene Objekt anlegen."
   ]
  },
  {
   "cell_type": "code",
   "execution_count": 74,
   "id": "09b637df-d6da-482d-a143-083d1029378a",
   "metadata": {},
   "outputs": [],
   "source": [
    "rtw = Rettungswagen(60, 2, 1)"
   ]
  },
  {
   "cell_type": "code",
   "execution_count": 75,
   "id": "fc996504-8ecc-4d8e-836a-ea702a648226",
   "metadata": {},
   "outputs": [
    {
     "data": {
      "text/plain": [
       "2"
      ]
     },
     "execution_count": 75,
     "metadata": {},
     "output_type": "execute_result"
    }
   ],
   "source": [
    "rtw.sitzplaetze"
   ]
  },
  {
   "cell_type": "markdown",
   "id": "2b787b56-af6c-4ed2-90d4-d2c3c2b56f02",
   "metadata": {},
   "source": [
    "Für jede Klasse werden beim Anlegen eines Objektes die Tankgröße und die Anzahl an Sitzplätzen festgelegt. Da sie diese Eigenschaften gemeinsam haben, kann man diese auch in einer **übergeordneten Klasse** definieren."
   ]
  },
  {
   "cell_type": "code",
   "execution_count": 76,
   "id": "707d36d7-2f34-471e-a0db-aff798d1e5fb",
   "metadata": {},
   "outputs": [],
   "source": [
    "class Fahrzeug():\n",
    "    def __init__(self, tankgroesse, sitzplaetze):\n",
    "        self.tankgroesse = tankgroesse\n",
    "        self.sitzplaetze = sitzplaetze"
   ]
  },
  {
   "cell_type": "markdown",
   "id": "e9b28e59-d23f-4961-a0bc-3d7167557dbc",
   "metadata": {},
   "source": [
    "Dass nun ein Objekt einer Unterklasse bei der Initialisierung eine Tankgröße und Anzahl an Sitzplätzen zugewiesen bekommt, muss die \"_ \"_init_()\" Methode der übergeordneten Klasse aufgerufen werden.\n",
    "\n",
    "Dies kann man durch **super().__init__()...** \n",
    "\n",
    "Durch die Auslagerung der gemeinsamen Variablen (oder Funktionen) in eine übergeordnete Klasse spart man doppelten Code."
   ]
  },
  {
   "cell_type": "code",
   "execution_count": 81,
   "id": "ddd6132f-562b-4b21-8336-85b4b3c08245",
   "metadata": {},
   "outputs": [],
   "source": [
    "class Rettungswagen(Fahrzeug): # Die Klasse Rettungswagen ist der Klasse Fahrzeug untergeordnet\n",
    "    #Initalisieren der Klassen-Attribute\n",
    "    def __init__(self, tankgroesse, sitzplaetze, patiententransport):\n",
    "        \n",
    "        #Initalisieren der Super-Klassen-Attribute\n",
    "        super().__init__(tankgroesse, sitzplaetze)\n",
    "        \n",
    "        self.patiententransport = patiententransport"
   ]
  },
  {
   "cell_type": "code",
   "execution_count": 82,
   "id": "beab7bf0-2b4d-49fe-821c-8f61f2563d1c",
   "metadata": {},
   "outputs": [],
   "source": [
    "class Baustellenfahrzeug(Fahrzeug):\n",
    "    #Initalisieren der Klassen-Attribute\n",
    "    def __init__(self, tankgroesse, sitzplaetze, anzahl_schaufeln):\n",
    "        \n",
    "        #Initalisieren der Super-Klassen-Attribute\n",
    "        super().__init__(tankgroesse, sitzplaetze)\n",
    "        \n",
    "        self.anzahl_schaufeln = anzahl_schaufeln"
   ]
  },
  {
   "cell_type": "code",
   "execution_count": 83,
   "id": "b8d5fb81-96e2-45a7-a1d1-febb4f89cfc9",
   "metadata": {},
   "outputs": [],
   "source": [
    "class Polizeiauto(Fahrzeug):\n",
    "    #Initalisieren der Klassen-Attribute\n",
    "    def __init__(self, tankgroesse, sitzplaetze, anzahl_handschellen):\n",
    "        \n",
    "        #Initalisieren der Super-Klassen-Attribute\n",
    "        super().__init__(tankgroesse, sitzplaetze)\n",
    "        \n",
    "        self.anzahl_handschellen = anzahl_handschellen"
   ]
  },
  {
   "cell_type": "markdown",
   "id": "2c74af50-6a3d-475d-b537-0c1c94b9c2cb",
   "metadata": {},
   "source": [
    "Mit **super()** kann man die übergeordnete Klasse aufrufen"
   ]
  },
  {
   "cell_type": "markdown",
   "id": "9f0e9de4-78d7-4b27-b394-2d99cc47709e",
   "metadata": {},
   "source": [
    "Wenn man nun ein neues Objekt anlegt, wird die init() Methode der Klasse und darin die init() Methode der übergeordneten Klasse aufgerufen. Attribute können deshalb weiterhin problemlos abgefragt werden."
   ]
  },
  {
   "cell_type": "code",
   "execution_count": 84,
   "id": "7d46406f-398e-44ea-b24b-3fae8617c4e0",
   "metadata": {},
   "outputs": [],
   "source": [
    "rtw = Rettungswagen(60, 2, 1)"
   ]
  },
  {
   "cell_type": "code",
   "execution_count": 85,
   "id": "49586009-9fc7-44eb-9a79-04544915fbfb",
   "metadata": {},
   "outputs": [
    {
     "data": {
      "text/plain": [
       "60"
      ]
     },
     "execution_count": 85,
     "metadata": {},
     "output_type": "execute_result"
    }
   ],
   "source": [
    "rtw.tankgroesse"
   ]
  }
 ],
 "metadata": {
  "kernelspec": {
   "display_name": "Python 3 (ipykernel)",
   "language": "python",
   "name": "python3"
  },
  "language_info": {
   "codemirror_mode": {
    "name": "ipython",
    "version": 3
   },
   "file_extension": ".py",
   "mimetype": "text/x-python",
   "name": "python",
   "nbconvert_exporter": "python",
   "pygments_lexer": "ipython3",
   "version": "3.9.7"
  }
 },
 "nbformat": 4,
 "nbformat_minor": 5
}
